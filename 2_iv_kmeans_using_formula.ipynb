{
 "cells": [
  {
   "cell_type": "markdown",
   "metadata": {},
   "source": [
    "# spectral clustering using diffrent function to assign the cluster"
   ]
  },
  {
   "cell_type": "code",
   "execution_count": 1,
   "metadata": {},
   "outputs": [],
   "source": [
    "#importing necessary libraries\n",
    "import numpy as np\n",
    "import pandas as pd\n",
    "from numpy import linalg as LA\n",
    "import matplotlib.pyplot as plt\n",
    "from sklearn import datasets\n",
    "import seaborn as sb\n",
    "import sys\n",
    "import csv\n",
    "\n",
    "#from sklearn.datasets import make_moons\n",
    "from scipy.spatial.distance import pdist, squareform\n",
    "import sklearn.metrics.pairwise\n",
    "\n",
    "filename = 'Dataset.csv'\n",
    "raw_data = open(filename, 'rt')\n",
    "reader = csv.reader(raw_data, delimiter=',', quoting=csv.QUOTE_NONE)\n",
    "x = list(reader)\n",
    "data = np.array(x).astype('float')"
   ]
  },
  {
   "cell_type": "code",
   "execution_count": 2,
   "metadata": {},
   "outputs": [],
   "source": [
    "euclidean_distance = pdist(data, 'sqeuclidean')#computes pairwise euclidean distance betwwen the vectors\n",
    "distance_matrix= squareform(euclidean_distance)"
   ]
  },
  {
   "cell_type": "code",
   "execution_count": 3,
   "metadata": {},
   "outputs": [],
   "source": [
    "#Kernel Matrix K\n",
    "K = sklearn.metrics.pairwise.polynomial_kernel(distance_matrix, degree=2, coef0=1)"
   ]
  },
  {
   "cell_type": "code",
   "execution_count": 4,
   "metadata": {},
   "outputs": [],
   "source": [
    "#Calculate eigenvalues and eigenvectors of kernel matrix\n",
    "n_components = 2\n",
    "eigenvals, eigenvecs = LA.eigh(K)\n",
    "eigenvals, eigenvecs = eigenvals[::-1], eigenvecs[:, ::-1]\n",
    "# Collect the top k eigenvectors (projected examples)\n",
    "principal_components= np.column_stack([eigenvecs[:, i] for i in range(n_components)])"
   ]
  },
  {
   "cell_type": "code",
   "execution_count": 5,
   "metadata": {},
   "outputs": [],
   "source": [
    "N = K.shape[0]\n",
    "principal_components = principal_components / np.sqrt(eigenvals[:n_components] *N)\n",
    "projected_data = np.dot(K , principal_components )"
   ]
  },
  {
   "cell_type": "code",
   "execution_count": 6,
   "metadata": {},
   "outputs": [],
   "source": [
    "z = np.delete(eigenvecs, np.s_[3:999], 1)"
   ]
  },
  {
   "cell_type": "code",
   "execution_count": 7,
   "metadata": {},
   "outputs": [],
   "source": [
    "n_clusters = 4\n",
    "X = z\n",
    "n_samples = X.shape[0]\n",
    "n_features = X.shape[1]"
   ]
  },
  {
   "cell_type": "code",
   "execution_count": 8,
   "metadata": {},
   "outputs": [],
   "source": [
    "def cluster_assignment(X, centroids , n_clusters):\n",
    "    current_clusters = [[] for i in range(n_clusters)]\n",
    "    \n",
    "    for index, data_point in enumerate(X):\n",
    "        #ind_arr will contain single value in the 2d array as [[3]]\n",
    "        ind_arr = np.argwhere(data_point==np.amax(data_point,0, keepdims=True))\n",
    "        #Take the above single value from the 2d array\n",
    "        nearest_centroid = ind_arr[0][0]\n",
    "        current_clusters[nearest_centroid].append(index)\n",
    "    return current_clusters"
   ]
  },
  {
   "cell_type": "code",
   "execution_count": 9,
   "metadata": {},
   "outputs": [],
   "source": [
    "def centroid_initialization(X , n_clusters):\n",
    "    centroids = np.zeros((n_clusters, n_features))\n",
    "    #initial assignment (random)\n",
    "    for i in range(n_clusters):\n",
    "        centroid_current_cluster = X[np.random.choice(range(n_samples))]\n",
    "        centroids[i] = centroid_current_cluster\n",
    "\n",
    "    return centroids"
   ]
  },
  {
   "cell_type": "code",
   "execution_count": 10,
   "metadata": {},
   "outputs": [],
   "source": [
    "centroids = centroid_initialization(X, n_clusters)"
   ]
  },
  {
   "cell_type": "code",
   "execution_count": 11,
   "metadata": {},
   "outputs": [],
   "source": [
    "current_clusters = cluster_assignment(X , centroids, n_clusters)"
   ]
  },
  {
   "cell_type": "code",
   "execution_count": 12,
   "metadata": {},
   "outputs": [],
   "source": [
    "def update_centroids(X, current_clusters, n_clusters):\n",
    "    centroids = np.zeros((n_clusters, n_features))\n",
    "    for index, cluster in enumerate(current_clusters):\n",
    "        new_centroid = np.mean(X[cluster], axis=0)\n",
    "        centroids[index] = new_centroid\n",
    "    return centroids"
   ]
  },
  {
   "cell_type": "code",
   "execution_count": 13,
   "metadata": {},
   "outputs": [
    {
     "name": "stderr",
     "output_type": "stream",
     "text": [
      "C:\\Users\\smaganah\\Anaconda3\\lib\\site-packages\\numpy\\core\\fromnumeric.py:3419: RuntimeWarning: Mean of empty slice.\n",
      "  return _methods._mean(a, axis=axis, dtype=dtype,\n",
      "C:\\Users\\smaganah\\Anaconda3\\lib\\site-packages\\numpy\\core\\_methods.py:180: RuntimeWarning: invalid value encountered in true_divide\n",
      "  ret = um.true_divide(\n"
     ]
    }
   ],
   "source": [
    "centroids = update_centroids(X , current_clusters, n_clusters)"
   ]
  },
  {
   "cell_type": "code",
   "execution_count": 14,
   "metadata": {},
   "outputs": [],
   "source": [
    "#Even though the iteration is run over 500 times the K-Means algo will never converge.\n",
    "n_iter = 500\n",
    "centroids = centroid_initialization(X, n_clusters)\n",
    "for it in range(n_iter):\n",
    "    clusters = cluster_assignment(X, centroids,n_clusters)\n",
    "    previous_centroids = centroids.copy()\n",
    "    centroids = update_centroids(X, clusters, n_clusters)\n",
    "    diff = centroids - previous_centroids\n",
    "    \n",
    "    if not diff.any():\n",
    "        print(\"K-Means Converged\")\n",
    "        break"
   ]
  },
  {
   "cell_type": "code",
   "execution_count": 15,
   "metadata": {},
   "outputs": [],
   "source": [
    "#Assigning clusters_ids to all data points\n",
    "y_pred = np.zeros(n_samples)\n",
    "for cluster_id, cluster in enumerate(clusters):\n",
    "    for index in cluster:\n",
    "        y_pred[index] = cluster_id"
   ]
  },
  {
   "cell_type": "code",
   "execution_count": 16,
   "metadata": {},
   "outputs": [
    {
     "data": {
      "text/plain": [
       "Text(0, 0.5, 'Y axis: Feature 2')"
      ]
     },
     "execution_count": 16,
     "metadata": {},
     "output_type": "execute_result"
    },
    {
     "data": {
      "image/png": "[encoded data removed]",
      "text/plain": [
       "<Figure size 432x288 with 1 Axes>"
      ]
     },
     "metadata": {
      "needs_background": "light"
     },
     "output_type": "display_data"
    }
   ],
   "source": [
    "#Visualization\n",
    "plt.scatter(X[:, 0], X[:, 1], c=y_pred, s=40, cmap= 'Accent')\n",
    "plt.title(\"K means algorithm using different formula\")\n",
    "plt.xlabel(\"X axis: Feature 1\")\n",
    "plt.ylabel(\"Y axis: Feature 2\")"
   ]
  }
 ],
 "metadata": {
  "kernelspec": {
   "display_name": "Python 3 (ipykernel)",
   "language": "python",
   "name": "python3"
  },
  "language_info": {
   "codemirror_mode": {
    "name": "ipython",
    "version": 3
   },
   "file_extension": ".py",
   "mimetype": "text/x-python",
   "name": "python",
   "nbconvert_exporter": "python",
   "pygments_lexer": "ipython3",
   "version": "3.9.7"
  }
 },
 "nbformat": 4,
 "nbformat_minor": 2
}
